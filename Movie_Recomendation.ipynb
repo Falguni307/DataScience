{
  "nbformat": 4,
  "nbformat_minor": 0,
  "metadata": {
    "colab": {
      "name": "Coding invaders : Data challenge for beginners",
      "provenance": [],
      "include_colab_link": true
    },
    "kernelspec": {
      "name": "python3",
      "display_name": "Python 3"
    }
  },
  "cells": [
    {
      "cell_type": "markdown",
      "metadata": {
        "id": "view-in-github",
        "colab_type": "text"
      },
      "source": [
        "<a href=\"https://colab.research.google.com/github/Falguni307/DataScience/blob/master/Movie_Recomendation.ipynb\" target=\"_parent\"><img src=\"https://colab.research.google.com/assets/colab-badge.svg\" alt=\"Open In Colab\"/></a>"
      ]
    },
    {
      "cell_type": "code",
      "metadata": {
        "id": "0aJncgORpqhW"
      },
      "source": [
        "  #Installing lightfm library\n",
        "!pip install lightfm nmslib"
      ],
      "execution_count": null,
      "outputs": []
    },
    {
      "cell_type": "code",
      "metadata": {
        "id": "agtzg9ZN28Lz"
      },
      "source": [
        "#Downloading data\n",
        "!wget http://files.grouplens.org/datasets/movielens/ml-latest-small.zip"
      ],
      "execution_count": null,
      "outputs": []
    },
    {
      "cell_type": "code",
      "metadata": {
        "id": "4NPtUjxQ283S"
      },
      "source": [
        "#Unarchiving data\n",
        "!unzip ml-latest-small.zip"
      ],
      "execution_count": null,
      "outputs": []
    },
    {
      "cell_type": "markdown",
      "metadata": {
        "id": "3tZjJIZ_LH6P"
      },
      "source": [
        "#Importing modules from the library"
      ]
    },
    {
      "cell_type": "code",
      "metadata": {
        "id": "QWTwcT-Qqiuu"
      },
      "source": [
        "from lightfm import LightFM\n",
        "import nmslib\n",
        "import pandas as pd\n",
        "from scipy.sparse import coo_matrix"
      ],
      "execution_count": null,
      "outputs": []
    },
    {
      "cell_type": "markdown",
      "metadata": {
        "id": "uPBJkfxiQGii"
      },
      "source": [
        "# Secondary functions"
      ]
    },
    {
      "cell_type": "code",
      "metadata": {
        "id": "VXvDJRHyMmCd"
      },
      "source": [
        "#These are secondary functions  that transform data to a more suitable format\n",
        "def update_data(movies,ratings):\n",
        "  #function for tranforming the data\n",
        "  ratings['ID'] = ratings.movieId.astype('category').cat.rename_categories(range(1, ratings.movieId.nunique()+1)).astype(int)\n",
        "  movies = pd.merge(movies,ratings,how='inner',on='movieId').drop_duplicates('movieId')\n",
        "  ratings.rating = ratings.rating.apply(lambda x: 1 if x> 4 else 0)\n",
        "  ratings_sparse = coo_matrix((ratings.rating, (ratings.userId,ratings.ID)))\n",
        "  return movies[['title','genres','ID']].set_index('ID'),ratings[['userId','ID','rating']],ratings_sparse"
      ],
      "execution_count": null,
      "outputs": []
    },
    {
      "cell_type": "code",
      "metadata": {
        "id": "zRostxq7QF6h"
      },
      "source": [
        "# Function that works with the search\n",
        "def init_nms (item_embeddings):\n",
        "  # initialize a new nmslib index, using a HNSW index on Cosine Similarity\n",
        "  nms_idx = nmslib.init(method='hnsw', space='cosinesimil')\n",
        "  nms_idx.addDataPointBatch(item_embeddings)\n",
        "  nms_idx.createIndex(print_progress=True)\n",
        "  return nms_idx"
      ],
      "execution_count": null,
      "outputs": []
    },
    {
      "cell_type": "markdown",
      "metadata": {
        "id": "V6ldPMsBLFq8"
      },
      "source": [
        "# Importing data\n"
      ]
    },
    {
      "cell_type": "code",
      "metadata": {
        "id": "MZsPfqE9qge8"
      },
      "source": [
        "movies =  pd.read_csv('ml-latest-small/movies.csv')\n",
        "ratings =  pd.read_csv('ml-latest-small/ratings.csv')\n",
        "#Transforming data\n",
        "movies,ratings,ratings_sparse = update_data(movies,ratings)"
      ],
      "execution_count": null,
      "outputs": []
    },
    {
      "cell_type": "markdown",
      "metadata": {
        "id": "3rKFXrhSLDhb"
      },
      "source": [
        "# In order to display the data, you need to write the name of the table and then click play\n",
        "\n"
      ]
    },
    {
      "cell_type": "code",
      "metadata": {
        "id": "5gKfzWob-gpi"
      },
      "source": [
        "# To display a table, you need to write its name - movies\n",
        "# Your code here:"
      ],
      "execution_count": null,
      "outputs": []
    },
    {
      "cell_type": "markdown",
      "metadata": {
        "id": "lXdsNulF3pRg"
      },
      "source": [
        "## **Write the code to display first 5 movies**"
      ]
    },
    {
      "cell_type": "code",
      "metadata": {
        "id": "1IzgeJ6d3fW3"
      },
      "source": [
        "# In order to display first 5 elements ues function head \n",
        "# Your code here:\n"
      ],
      "execution_count": null,
      "outputs": []
    },
    {
      "cell_type": "markdown",
      "metadata": {
        "id": "u85nS9zWLT4C"
      },
      "source": [
        "## Write code to dispaly ratings"
      ]
    },
    {
      "cell_type": "code",
      "metadata": {
        "id": "W3sZmgOJ3bVg"
      },
      "source": [
        "# Ratings are stored in a table ratings, in order to dispaly first elements use funcion head\n",
        "# Your code here:\n"
      ],
      "execution_count": null,
      "outputs": []
    },
    {
      "cell_type": "markdown",
      "metadata": {
        "id": "4ZDxSSgL5wov"
      },
      "source": [
        "# Exploring movies"
      ]
    },
    {
      "cell_type": "code",
      "metadata": {
        "id": "nVL7BRFmxiOB"
      },
      "source": [
        "# Nothing to write here,\n",
        "# Let's look at the code\n",
        "#@title Choose a film\n",
        "movie_name = \"Matrix\" #@param {type:\"string\"}\n",
        "movies[movies['title'].str.find(movie_name)>=0]"
      ],
      "execution_count": null,
      "outputs": []
    },
    {
      "cell_type": "markdown",
      "metadata": {
        "id": "gVfWKAg_MSsL"
      },
      "source": [
        "# Time for some magic! Let's create a model\n",
        "\n",
        "\n"
      ]
    },
    {
      "cell_type": "code",
      "metadata": {
        "id": "T4JBUIGwvjCD"
      },
      "source": [
        "# Let's create a model LightFM with arguments (loss=LOSS, no_components=NO_COMPONENTS)\n",
        "LOSS =\"warp\" #  Learning algorithm\n",
        "NO_COMPONENTS = 30 # Dimension of the space\n",
        "# Write your code here\n",
        "model =  # Creating your model here, write your code here model = type of model (arguments)"
      ],
      "execution_count": null,
      "outputs": []
    },
    {
      "cell_type": "markdown",
      "metadata": {
        "id": "boJzUhOaOeoX"
      },
      "source": [
        "# Training the model"
      ]
    },
    {
      "cell_type": "code",
      "metadata": {
        "id": "NZ8FkowXOeLR"
      },
      "source": [
        "# Training the model, we need to call .fit function from our model with arguments (data,epochs) \n",
        "# Our data is user ratings stored in ratings_sparse\n",
        "data = ratings_sparse \n",
        "# training the model, write your code here model.fit(...)"
      ],
      "execution_count": null,
      "outputs": []
    },
    {
      "cell_type": "markdown",
      "metadata": {
        "id": "1uxsF5zxP0Op"
      },
      "source": [
        "# Using the model"
      ]
    },
    {
      "cell_type": "code",
      "metadata": {
        "id": "d8_y-dZAv-6Q"
      },
      "source": [
        "# Here we got a new representation of our data\n",
        "_, item_embeddings = model.get_item_representations()\n",
        "# Building search\n",
        "nms_idx = init_nms(item_embeddings)"
      ],
      "execution_count": null,
      "outputs": []
    },
    {
      "cell_type": "markdown",
      "metadata": {
        "id": "Va_CGhJX5t4C"
      },
      "source": [
        "# Secondary function\n"
      ]
    },
    {
      "cell_type": "code",
      "metadata": {
        "id": "S36w-_5PwZdx"
      },
      "source": [
        "# Secondary option for searching nearest movies\n",
        "def nearest_movies_nms(movie_id, index, n=10):\n",
        "    # Returns nearest movies\n",
        "    nn = index.knnQuery(item_embeddings[movie_id], k=n)\n",
        "    return nn"
      ],
      "execution_count": null,
      "outputs": []
    },
    {
      "cell_type": "markdown",
      "metadata": {
        "id": "9ztpmRFO6FJx"
      },
      "source": [
        "# Choosing a film for recommendation"
      ]
    },
    {
      "cell_type": "code",
      "metadata": {
        "id": "kjYDxLMX7et1"
      },
      "source": [
        "#@title Chosing a film\n",
        "movie_name = \"Inception\" #@param {type:\"string\"}\n",
        "ID = 7356 #@param {type:\"number\"}\n",
        "movies[movies['title'].str.find(movie_name)>=0]"
      ],
      "execution_count": null,
      "outputs": []
    },
    {
      "cell_type": "markdown",
      "metadata": {
        "id": "cjGQaR9q6C6L"
      },
      "source": [
        "# Getting recommendations\n",
        "\n",
        "\n"
      ]
    },
    {
      "cell_type": "code",
      "metadata": {
        "id": "YVEnS-n_RJrO"
      },
      "source": [
        "# Getting recommendation\n",
        "rec = nearest_movies_nms(ID,nms_idx)[0]"
      ],
      "execution_count": null,
      "outputs": []
    },
    {
      "cell_type": "markdown",
      "metadata": {
        "id": "H2GwigrT5_XG"
      },
      "source": [
        "# Displaying recommendations"
      ]
    },
    {
      "cell_type": "code",
      "metadata": {
        "id": "eQRyrC8z8KXQ"
      },
      "source": [
        "# Let's use table movies and function .loc with arguments [rec], \n",
        "# We need to use square brackets here\n",
        "# Your code here"
      ],
      "execution_count": null,
      "outputs": []
    },
    {
      "cell_type": "markdown",
      "metadata": {
        "id": "XNyz4f6B5no6"
      },
      "source": [
        "# We've got mediocre results, lt's improve them!"
      ]
    },
    {
      "cell_type": "markdown",
      "metadata": {
        "id": "AMQyXNQe6s6p"
      },
      "source": [
        "##  How can we improve our model?\n"
      ]
    },
    {
      "cell_type": "code",
      "metadata": {
        "id": "nzH3WVKv42Rb"
      },
      "source": [
        "#@title Let's choose number of epochs for training\n",
        "# We train the model, call .fit function of or model with arguments (data,epochs) \n",
        "epochs =  100#@param {type:\"number\"}\n",
        "model.fit(data,epochs=epochs) # training the model"
      ],
      "execution_count": null,
      "outputs": []
    },
    {
      "cell_type": "code",
      "metadata": {
        "id": "SkNXooeSICgt"
      },
      "source": [
        "import random\n",
        "random.seed(42)"
      ],
      "execution_count": null,
      "outputs": []
    },
    {
      "cell_type": "code",
      "metadata": {
        "id": "1jiJgZnp42UM"
      },
      "source": [
        "# We've got a new representation of our data here\n",
        "_, item_embeddings = model.get_item_representations()\n",
        "# Let's build search\n",
        "nms_idx = init_nms(item_embeddings)"
      ],
      "execution_count": null,
      "outputs": []
    },
    {
      "cell_type": "code",
      "metadata": {
        "id": "vk_Eu9J942bA"
      },
      "source": [
        "# Getting recommendations\n",
        "rec = nearest_movies_nms(ID,nms_idx)[0]"
      ],
      "execution_count": null,
      "outputs": []
    },
    {
      "cell_type": "markdown",
      "metadata": {
        "id": "dBtXkM-H7W3y"
      },
      "source": [
        "#  What if change dimension from 30 to 1\n"
      ]
    },
    {
      "cell_type": "code",
      "metadata": {
        "id": "vws18zV17bjE"
      },
      "source": [
        "NO_COMPONENTS =   100#@param {type:\"number\"}\n",
        "model = LightFM(loss=LOSS, no_components = NO_COMPONENTS) # Creating model here, write your code here\n",
        "epochs =  100#@param {type:\"number\"}\n",
        "model.fit(data,epochs=epochs) # Training the model, write your code here"
      ],
      "execution_count": null,
      "outputs": []
    },
    {
      "cell_type": "code",
      "metadata": {
        "id": "93dLwaNi7unr"
      },
      "source": [
        "# Here we get a new representation of our data\n",
        "_, item_embeddings = model.get_item_representations()\n",
        "# Building search\n",
        "nms_idx = init_nms(item_embeddings)"
      ],
      "execution_count": null,
      "outputs": []
    },
    {
      "cell_type": "code",
      "metadata": {
        "id": "bXjeqv897wNZ"
      },
      "source": [
        "# Getting recommendations\n",
        "rec = nearest_movies_nms(ID,nms_idx)[0]"
      ],
      "execution_count": null,
      "outputs": []
    },
    {
      "cell_type": "code",
      "metadata": {
        "id": "_L4eOtU9FKyw"
      },
      "source": [
        "nearest_movies_nms(ID,nms_idx)[1]"
      ],
      "execution_count": null,
      "outputs": []
    },
    {
      "cell_type": "code",
      "metadata": {
        "id": "R4zf0Aet7xcz"
      },
      "source": [
        "movies.loc[rec]"
      ],
      "execution_count": null,
      "outputs": []
    },
    {
      "cell_type": "markdown",
      "metadata": {
        "id": "azCuXEooUIUX"
      },
      "source": [
        "What can be done?\n"
      ]
    },
    {
      "cell_type": "markdown",
      "metadata": {
        "id": "9tT7eP54UQC6"
      },
      "source": [
        "1.   Change dimension parameters\n",
        "2.   Change evaluation criterion\n",
        "\n"
      ]
    }
  ]
}